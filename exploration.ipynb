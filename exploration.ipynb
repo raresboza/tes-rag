{
 "cells": [
  {
   "cell_type": "code",
   "id": "initial_id",
   "metadata": {
    "collapsed": true,
    "ExecuteTime": {
     "end_time": "2025-06-09T15:29:45.995014Z",
     "start_time": "2025-06-09T15:29:45.975181Z"
    }
   },
   "source": [
    "import pandas as pd\n",
    "\n",
    "link_df = pd.read_csv('links.csv')\n",
    "wiki_links = [\n",
    "        \"https://en.uesp.net/wiki/Lore:Solitude\",\n",
    "        \"https://en.uesp.net/wiki/Lore:Falkreath\",\n",
    "        \"https://en.uesp.net/wiki/Lore:Daedra\",\n",
    "        \"https://en.uesp.net/wiki/Lore:Aedra\",\n",
    "        \"https://en.uesp.net/wiki/Lore:Riverwood\",\n",
    "        \"https://en.uesp.net/wiki/Lore:Ivarstead\",\n",
    "        \"https://en.uesp.net/wiki/Lore:Rorikstead\",\n",
    "        \"https://en.uesp.net/wiki/Lore:Morthal\",\n",
    "        \"https://en.uesp.net/wiki/Lore:Dawnstar\",\n",
    "        \"https://en.uesp.net/wiki/Lore:Whiterun\"\n",
    "        \"https://en.uesp.net/wiki/Lore:Windhelm\",\n",
    "        \"https://en.uesp.net/wiki/Lore:Winterhold\",\n",
    "        \"https://en.uesp.net/wiki/Lore:Helgen\",\n",
    "        \"https://en.uesp.net/wiki/Lore:Markarth\",\n",
    "        \"https://en.uesp.net/wiki/Lore:Mephala\",\n",
    "        \"https://en.uesp.net/wiki/Lore:Riften\",\n",
    "    ]\n",
    "\n",
    "complete_df = pd.DataFrame({'URL': list(set(link_df['URL'].to_list() + wiki_links))})\n",
    "complete_df.to_csv(\"data/wiki_links.csv\", index=False, header=False)"
   ],
   "outputs": [],
   "execution_count": 10
  }
 ],
 "metadata": {
  "kernelspec": {
   "display_name": "Python 3",
   "language": "python",
   "name": "python3"
  },
  "language_info": {
   "codemirror_mode": {
    "name": "ipython",
    "version": 2
   },
   "file_extension": ".py",
   "mimetype": "text/x-python",
   "name": "python",
   "nbconvert_exporter": "python",
   "pygments_lexer": "ipython2",
   "version": "2.7.6"
  }
 },
 "nbformat": 4,
 "nbformat_minor": 5
}
